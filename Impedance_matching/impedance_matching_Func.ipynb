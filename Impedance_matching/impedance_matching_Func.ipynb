{
 "cells": [
  {
   "cell_type": "code",
   "execution_count": 13,
   "metadata": {},
   "outputs": [],
   "source": [
    "import MEC_functions as MEC"
   ]
  },
  {
   "cell_type": "code",
   "execution_count": 18,
   "metadata": {},
   "outputs": [
    {
     "name": "stdout",
     "output_type": "stream",
     "text": [
      "90.57289999999999 3.2985233587884233 62.10042201557786\n"
     ]
    }
   ],
   "source": [
    "path_1 = \"/Users/meera94/Downloads/MgO hugoniot (periclase Rusbank).xlsx\"\n",
    "path_2 = \"/Users/meera94/Desktop/LCLS MEC LX99/MEC2022_code/Impedance_matching/RenganathanSLG.xlsx\"\n",
    "interface_velocity = 2.493\n",
    "Window_P, Sample_Up, Sample_P = MEC.impedance_match(path_1, path_2, interface_velocity)\n",
    "\n",
    "print(Window_P, Sample_Up, Sample_P)"
   ]
  },
  {
   "cell_type": "markdown",
   "metadata": {},
   "source": []
  },
  {
   "cell_type": "code",
   "execution_count": null,
   "metadata": {},
   "outputs": [],
   "source": [
    "cefvrgv = 0"
   ]
  }
 ],
 "metadata": {
  "kernelspec": {
   "display_name": "Python 3.10.5 ('LX99')",
   "language": "python",
   "name": "python3"
  },
  "language_info": {
   "codemirror_mode": {
    "name": "ipython",
    "version": 3
   },
   "file_extension": ".py",
   "mimetype": "text/x-python",
   "name": "python",
   "nbconvert_exporter": "python",
   "pygments_lexer": "ipython3",
   "version": "3.10.5"
  },
  "orig_nbformat": 4,
  "vscode": {
   "interpreter": {
    "hash": "ffd1f050ac8e4d1f0bc89df3329d288f0928456281a189616bed30c245405c6c"
   }
  }
 },
 "nbformat": 4,
 "nbformat_minor": 2
}
