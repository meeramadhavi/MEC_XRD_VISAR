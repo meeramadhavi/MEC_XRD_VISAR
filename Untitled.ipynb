{
 "cells": [
  {
   "cell_type": "code",
   "execution_count": 2,
   "id": "d5985637-8f26-45a6-99fe-662f5fe931da",
   "metadata": {},
   "outputs": [
    {
     "name": "stdout",
     "output_type": "stream",
     "text": [
      "Collecting shapely\n",
      "  Downloading Shapely-1.8.2-cp310-cp310-macosx_11_0_arm64.whl (1.1 MB)\n",
      "\u001b[K     |████████████████████████████████| 1.1 MB 5.5 MB/s eta 0:00:01\n",
      "\u001b[?25hInstalling collected packages: shapely\n",
      "Successfully installed shapely-1.8.2\n",
      "Note: you may need to restart the kernel to use updated packages.\n"
     ]
    }
   ],
   "source": [
    "pip install shapely"
   ]
  },
  {
   "cell_type": "code",
   "execution_count": 6,
   "id": "68c9ccd6-6f49-4785-8005-d6bc52c305fc",
   "metadata": {},
   "outputs": [],
   "source": [
    "import shapely\n",
    "from shapely.geometry import Polygon\n",
    "\n",
    "import numpy as np\n",
    "import h5py\n",
    "\n",
    "import matplotlib.pyplot as plt\n",
    "from matplotlib import *\n",
    "import sys"
   ]
  },
  {
   "cell_type": "code",
   "execution_count": 7,
   "id": "c59ec8bf-d63a-49f0-88f0-9aaa6aed99c8",
   "metadata": {},
   "outputs": [
    {
     "ename": "AssertionError",
     "evalue": "",
     "output_type": "error",
     "traceback": [
      "\u001b[0;31m---------------------------------------------------------------------------\u001b[0m",
      "\u001b[0;31mAssertionError\u001b[0m                            Traceback (most recent call last)",
      "Input \u001b[0;32mIn [7]\u001b[0m, in \u001b[0;36m<cell line: 12>\u001b[0;34m()\u001b[0m\n\u001b[1;32m      9\u001b[0m x \u001b[38;5;241m=\u001b[39m np\u001b[38;5;241m.\u001b[39marray( [ cx\u001b[38;5;241m-\u001b[39mwx, cx\u001b[38;5;241m+\u001b[39mwx,  cx\u001b[38;5;241m+\u001b[39mwx, cx\u001b[38;5;241m-\u001b[39mwx])  \n\u001b[1;32m     10\u001b[0m y \u001b[38;5;241m=\u001b[39m np\u001b[38;5;241m.\u001b[39marray( [ cy\u001b[38;5;241m-\u001b[39mwy, cy\u001b[38;5;241m-\u001b[39mwy, cy\u001b[38;5;241m+\u001b[39mwy, cy\u001b[38;5;241m+\u001b[39mwy]) \n\u001b[0;32m---> 12\u001b[0m box_1 \u001b[38;5;241m=\u001b[39m \u001b[43mPolygon\u001b[49m\u001b[43m \u001b[49m\u001b[43m(\u001b[49m\u001b[43my\u001b[49m\u001b[43m,\u001b[49m\u001b[43mx\u001b[49m\u001b[43m)\u001b[49m\n",
      "File \u001b[0;32m~/miniconda3/envs/LX99/lib/python3.10/site-packages/shapely/geometry/polygon.py:261\u001b[0m, in \u001b[0;36mPolygon.__init__\u001b[0;34m(self, shell, holes)\u001b[0m\n\u001b[1;32m    258\u001b[0m BaseGeometry\u001b[38;5;241m.\u001b[39m\u001b[38;5;21m__init__\u001b[39m(\u001b[38;5;28mself\u001b[39m)\n\u001b[1;32m    260\u001b[0m \u001b[38;5;28;01mif\u001b[39;00m shell \u001b[38;5;129;01mis\u001b[39;00m \u001b[38;5;129;01mnot\u001b[39;00m \u001b[38;5;28;01mNone\u001b[39;00m:\n\u001b[0;32m--> 261\u001b[0m     ret \u001b[38;5;241m=\u001b[39m \u001b[43mgeos_polygon_from_py\u001b[49m\u001b[43m(\u001b[49m\u001b[43mshell\u001b[49m\u001b[43m,\u001b[49m\u001b[43m \u001b[49m\u001b[43mholes\u001b[49m\u001b[43m)\u001b[49m\n\u001b[1;32m    262\u001b[0m     \u001b[38;5;28;01mif\u001b[39;00m ret \u001b[38;5;129;01mis\u001b[39;00m \u001b[38;5;129;01mnot\u001b[39;00m \u001b[38;5;28;01mNone\u001b[39;00m:\n\u001b[1;32m    263\u001b[0m         geom, n \u001b[38;5;241m=\u001b[39m ret\n",
      "File \u001b[0;32m~/miniconda3/envs/LX99/lib/python3.10/site-packages/shapely/geometry/polygon.py:539\u001b[0m, in \u001b[0;36mgeos_polygon_from_py\u001b[0;34m(shell, holes)\u001b[0m\n\u001b[1;32m    536\u001b[0m     \u001b[38;5;28;01mreturn\u001b[39;00m geos_geom_from_py(shell)\n\u001b[1;32m    538\u001b[0m \u001b[38;5;28;01mif\u001b[39;00m shell \u001b[38;5;129;01mis\u001b[39;00m \u001b[38;5;129;01mnot\u001b[39;00m \u001b[38;5;28;01mNone\u001b[39;00m:\n\u001b[0;32m--> 539\u001b[0m     ret \u001b[38;5;241m=\u001b[39m \u001b[43mgeos_linearring_from_py\u001b[49m\u001b[43m(\u001b[49m\u001b[43mshell\u001b[49m\u001b[43m)\u001b[49m\n\u001b[1;32m    540\u001b[0m     \u001b[38;5;28;01mif\u001b[39;00m ret \u001b[38;5;129;01mis\u001b[39;00m \u001b[38;5;28;01mNone\u001b[39;00m:\n\u001b[1;32m    541\u001b[0m         \u001b[38;5;28;01mreturn\u001b[39;00m \u001b[38;5;28;01mNone\u001b[39;00m\n",
      "File \u001b[0;32m~/miniconda3/envs/LX99/lib/python3.10/site-packages/shapely/speedups/_speedups.pyx:253\u001b[0m, in \u001b[0;36mshapely.speedups._speedups.geos_linearring_from_py\u001b[0;34m()\u001b[0m\n",
      "\u001b[0;31mAssertionError\u001b[0m: "
     ]
    }
   ],
   "source": [
    "wx = 20\n",
    "wy = 20  #each box width and height\n",
    "            \n",
    "cx= 280\n",
    "cy= 176\n",
    "        \n",
    "\n",
    "\n",
    "x = np.array( [ cx-wx, cx+wx,  cx+wx, cx-wx])  \n",
    "y = np.array( [ cy-wy, cy-wy, cy+wy, cy+wy]) \n",
    "\n",
    "box_1 = Polygon (y,x)\n",
    "\n",
    "\n"
   ]
  },
  {
   "cell_type": "code",
   "execution_count": null,
   "id": "376965a7-983f-454a-a5fc-4bb50254b97a",
   "metadata": {},
   "outputs": [],
   "source": []
  }
 ],
 "metadata": {
  "kernelspec": {
   "display_name": "Python 3.8.11 ('base')",
   "language": "python",
   "name": "python3"
  },
  "language_info": {
   "codemirror_mode": {
    "name": "ipython",
    "version": 3
   },
   "file_extension": ".py",
   "mimetype": "text/x-python",
   "name": "python",
   "nbconvert_exporter": "python",
   "pygments_lexer": "ipython3",
   "version": "3.8.11"
  },
  "vscode": {
   "interpreter": {
    "hash": "bb265f07af7bf0f5623a9f2b1b7826e5aa70ea2343f9f9b142e96d9f5159b469"
   }
  }
 },
 "nbformat": 4,
 "nbformat_minor": 5
}
